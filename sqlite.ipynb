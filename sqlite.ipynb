{
 "cells": [
  {
   "cell_type": "code",
   "execution_count": 5,
   "id": "ba52c040",
   "metadata": {},
   "outputs": [],
   "source": [
    "# import database sqlite3\n",
    "import sqlite3"
   ]
  },
  {
   "cell_type": "code",
   "execution_count": 6,
   "id": "97e34843",
   "metadata": {},
   "outputs": [],
   "source": [
    "#create database\n",
    "conexao = sqlite3.connect('mercado')"
   ]
  },
  {
   "cell_type": "code",
   "execution_count": 7,
   "id": "f0bc0d96",
   "metadata": {},
   "outputs": [],
   "source": [
    "# point to database\n",
    "Cursor = conexao.cursor()"
   ]
  },
  {
   "cell_type": "code",
   "execution_count": 8,
   "id": "1bdcfac7",
   "metadata": {},
   "outputs": [],
   "source": [
    "# Create table\n",
    "Cursor.execute(\n",
    "    'CREATE TABLE cliente (Data text, Nome text, Idade real)'\n",
    ")\n",
    "\n",
    "#Make commit\n",
    "conexao.commit()"
   ]
  },
  {
   "cell_type": "code",
   "execution_count": 9,
   "id": "7b80e627",
   "metadata": {},
   "outputs": [
    {
     "data": {
      "text/plain": [
       "<sqlite3.Cursor at 0x1f21d4d7490>"
      ]
     },
     "execution_count": 9,
     "metadata": {},
     "output_type": "execute_result"
    }
   ],
   "source": [
    "# Insert values in the table\n",
    "Cursor.execute('INSERT INTO Cliente VALUES (\"20/03/2018\",\"Isaac\", 38)')"
   ]
  },
  {
   "cell_type": "code",
   "execution_count": 11,
   "id": "0695fffc",
   "metadata": {},
   "outputs": [],
   "source": [
    "import random\n",
    "# insert register with randon python\n",
    "for loop in range(10):\n",
    "    numero = random.randint(10,20)\n",
    "    \n",
    "    Cursor.execute(f'INSERT INTO Cliente VALUES (\"01/02/1995\",\"Daniel\",{numero})')"
   ]
  },
  {
   "cell_type": "code",
   "execution_count": null,
   "id": "0a55289e",
   "metadata": {},
   "outputs": [],
   "source": []
  }
 ],
 "metadata": {
  "kernelspec": {
   "display_name": "Python 3",
   "language": "python",
   "name": "python3"
  },
  "language_info": {
   "codemirror_mode": {
    "name": "ipython",
    "version": 3
   },
   "file_extension": ".py",
   "mimetype": "text/x-python",
   "name": "python",
   "nbconvert_exporter": "python",
   "pygments_lexer": "ipython3",
   "version": "3.8.8"
  }
 },
 "nbformat": 4,
 "nbformat_minor": 5
}
