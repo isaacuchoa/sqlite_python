{
 "cells": [
  {
   "cell_type": "code",
   "execution_count": 13,
   "id": "ba52c040",
   "metadata": {},
   "outputs": [],
   "source": [
    "# import database sqlite3\n",
    "import sqlite3"
   ]
  },
  {
   "cell_type": "code",
   "execution_count": 14,
   "id": "6490aa54",
   "metadata": {},
   "outputs": [],
   "source": [
    "#create database\n",
    "conexao = sqlite3.connect('mercado')"
   ]
  },
  {
   "cell_type": "code",
   "execution_count": 15,
   "id": "6094f40b",
   "metadata": {},
   "outputs": [],
   "source": [
    "# point to database\n",
    "Cursor = conexao.cursor()"
   ]
  },
  {
   "cell_type": "code",
   "execution_count": 16,
   "id": "49720d4e",
   "metadata": {},
   "outputs": [
    {
     "ename": "OperationalError",
     "evalue": "table cliente already exists",
     "output_type": "error",
     "traceback": [
      "\u001b[1;31m---------------------------------------------------------------------------\u001b[0m",
      "\u001b[1;31mOperationalError\u001b[0m                          Traceback (most recent call last)",
      "\u001b[1;32m<ipython-input-16-0a8a10e1ba87>\u001b[0m in \u001b[0;36m<module>\u001b[1;34m\u001b[0m\n\u001b[0;32m      1\u001b[0m \u001b[1;31m# Create table\u001b[0m\u001b[1;33m\u001b[0m\u001b[1;33m\u001b[0m\u001b[1;33m\u001b[0m\u001b[0m\n\u001b[1;32m----> 2\u001b[1;33m Cursor.execute(\n\u001b[0m\u001b[0;32m      3\u001b[0m     \u001b[1;34m'CREATE TABLE cliente (Data text, Nome text, Idade real)'\u001b[0m\u001b[1;33m\u001b[0m\u001b[1;33m\u001b[0m\u001b[0m\n\u001b[0;32m      4\u001b[0m )\n\u001b[0;32m      5\u001b[0m \u001b[1;33m\u001b[0m\u001b[0m\n",
      "\u001b[1;31mOperationalError\u001b[0m: table cliente already exists"
     ]
    }
   ],
   "source": [
    "# Create table\n",
    "Cursor.execute(\n",
    "    'CREATE TABLE cliente (Data text, Nome text, Idade real)'\n",
    ")\n",
    "\n",
    "#Make commit\n",
    "conexao.commit()"
   ]
  },
  {
   "cell_type": "code",
   "execution_count": 20,
   "id": "bd97af39",
   "metadata": {},
   "outputs": [
    {
     "ename": "OperationalError",
     "evalue": "database is locked",
     "output_type": "error",
     "traceback": [
      "\u001b[1;31m---------------------------------------------------------------------------\u001b[0m",
      "\u001b[1;31mOperationalError\u001b[0m                          Traceback (most recent call last)",
      "\u001b[1;32m<ipython-input-20-6def34cf7b7c>\u001b[0m in \u001b[0;36m<module>\u001b[1;34m\u001b[0m\n\u001b[0;32m      1\u001b[0m \u001b[1;31m# Insert values in the table\u001b[0m\u001b[1;33m\u001b[0m\u001b[1;33m\u001b[0m\u001b[1;33m\u001b[0m\u001b[0m\n\u001b[1;32m----> 2\u001b[1;33m \u001b[0mCursor\u001b[0m\u001b[1;33m.\u001b[0m\u001b[0mexecute\u001b[0m\u001b[1;33m(\u001b[0m\u001b[1;34m'INSERT INTO cliente VALUES (\"20/03/2018\",\"Isaac\", 38)'\u001b[0m\u001b[1;33m)\u001b[0m\u001b[1;33m\u001b[0m\u001b[1;33m\u001b[0m\u001b[0m\n\u001b[0m",
      "\u001b[1;31mOperationalError\u001b[0m: database is locked"
     ]
    }
   ],
   "source": [
    "# Insert values in the table\n",
    "Cursor.execute('INSERT INTO cliente VALUES (\"20/03/2018\",\"Isaac\", 38)')"
   ]
  },
  {
   "cell_type": "code",
   "execution_count": 21,
   "id": "a243bf4e",
   "metadata": {},
   "outputs": [
    {
     "ename": "OperationalError",
     "evalue": "database is locked",
     "output_type": "error",
     "traceback": [
      "\u001b[1;31m---------------------------------------------------------------------------\u001b[0m",
      "\u001b[1;31mOperationalError\u001b[0m                          Traceback (most recent call last)",
      "\u001b[1;32m<ipython-input-21-10d2e5c70ef9>\u001b[0m in \u001b[0;36m<module>\u001b[1;34m\u001b[0m\n\u001b[0;32m      4\u001b[0m     \u001b[0mnumero\u001b[0m \u001b[1;33m=\u001b[0m \u001b[0mrandom\u001b[0m\u001b[1;33m.\u001b[0m\u001b[0mrandint\u001b[0m\u001b[1;33m(\u001b[0m\u001b[1;36m10\u001b[0m\u001b[1;33m,\u001b[0m\u001b[1;36m20\u001b[0m\u001b[1;33m)\u001b[0m\u001b[1;33m\u001b[0m\u001b[1;33m\u001b[0m\u001b[0m\n\u001b[0;32m      5\u001b[0m \u001b[1;33m\u001b[0m\u001b[0m\n\u001b[1;32m----> 6\u001b[1;33m     \u001b[0mCursor\u001b[0m\u001b[1;33m.\u001b[0m\u001b[0mexecute\u001b[0m\u001b[1;33m(\u001b[0m\u001b[1;34mf'INSERT INTO cliente VALUES (\"01/02/1995\",\"Daniel\",{numero})'\u001b[0m\u001b[1;33m)\u001b[0m\u001b[1;33m\u001b[0m\u001b[1;33m\u001b[0m\u001b[0m\n\u001b[0m",
      "\u001b[1;31mOperationalError\u001b[0m: database is locked"
     ]
    }
   ],
   "source": [
    "import random\n",
    "# insert register with randon python\n",
    "for loop in range(10):\n",
    "    numero = random.randint(10,20)\n",
    "    \n",
    "    Cursor.execute(f'INSERT INTO cliente VALUES (\"01/02/1995\",\"Daniel\",{numero})')"
   ]
  },
  {
   "cell_type": "code",
   "execution_count": 19,
   "id": "c0698cff",
   "metadata": {},
   "outputs": [
    {
     "name": "stdout",
     "output_type": "stream",
     "text": [
      "[]\n"
     ]
    }
   ],
   "source": [
    "# Query sql\n",
    "consulta = Cursor.execute('SELECT * FROM cliente').fetchall()\n",
    "\n",
    "print(consulta)"
   ]
  },
  {
   "cell_type": "code",
   "execution_count": null,
   "id": "2e3f1186",
   "metadata": {},
   "outputs": [],
   "source": []
  }
 ],
 "metadata": {
  "kernelspec": {
   "display_name": "Python 3",
   "language": "python",
   "name": "python3"
  },
  "language_info": {
   "codemirror_mode": {
    "name": "ipython",
    "version": 3
   },
   "file_extension": ".py",
   "mimetype": "text/x-python",
   "name": "python",
   "nbconvert_exporter": "python",
   "pygments_lexer": "ipython3",
   "version": "3.8.8"
  }
 },
 "nbformat": 4,
 "nbformat_minor": 5
}
